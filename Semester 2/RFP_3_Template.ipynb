{
 "cells": [
  {
   "cell_type": "markdown",
   "id": "fdb73e9d",
   "metadata": {},
   "source": [
    "# RFP: Maze Solvers\n",
    "\n",
    "## Project Overview\n",
    "You are invited to submit a proposal that answers the following question:\n",
    "\n",
    "### What path will your elf take?\n",
    "\n",
    "*Please submit your proposal by **2/11/25 at 11:59 PM**.*"
   ]
  },
  {
   "cell_type": "markdown",
   "id": "d88b6a60",
   "metadata": {},
   "source": [
    "## Required Proposal Components\n",
    "\n",
    "### 1. Data Description\n",
    "In the code cell below, use [Gymnasium](https://gymnasium.farama.org/) to set up a [Frozen Lake maze](https://gymnasium.farama.org/environments/toy_text/frozen_lake/) for your project. When you are done with the set up, describe the reward system you plan on using.\n",
    "\n",
    "*Note, a level 5 maze is at least 10 x 10 cells large and contains at least five lake cells.*"
   ]
  },
  {
   "cell_type": "code",
   "execution_count": 6,
   "id": "8744bf04",
   "metadata": {},
   "outputs": [
    {
     "name": "stdout",
     "output_type": "stream",
     "text": [
      "Defaulting to user installation because normal site-packages is not writeable\n",
      "Requirement already satisfied: gymnasium[toy-text] in c:\\users\\phowlett\\appdata\\roaming\\python\\python39\\site-packages (1.0.0)\n",
      "Requirement already satisfied: farama-notifications>=0.0.1 in c:\\users\\phowlett\\appdata\\roaming\\python\\python39\\site-packages (from gymnasium[toy-text]) (0.0.4)\n",
      "Requirement already satisfied: importlib-metadata>=4.8.0 in c:\\programdata\\anaconda3\\lib\\site-packages (from gymnasium[toy-text]) (4.11.3)\n",
      "Requirement already satisfied: typing-extensions>=4.3.0 in c:\\programdata\\anaconda3\\lib\\site-packages (from gymnasium[toy-text]) (4.3.0)\n",
      "Requirement already satisfied: cloudpickle>=1.2.0 in c:\\programdata\\anaconda3\\lib\\site-packages (from gymnasium[toy-text]) (2.0.0)\n",
      "Requirement already satisfied: numpy>=1.21.0 in c:\\programdata\\anaconda3\\lib\\site-packages (from gymnasium[toy-text]) (1.21.5)\n",
      "Collecting pygame>=2.1.3\n",
      "  Using cached pygame-2.6.1-cp39-cp39-win_amd64.whl (10.6 MB)\n",
      "Requirement already satisfied: zipp>=0.5 in c:\\programdata\\anaconda3\\lib\\site-packages (from importlib-metadata>=4.8.0->gymnasium[toy-text]) (3.8.0)\n",
      "Installing collected packages: pygame\n",
      "Successfully installed pygame-2.6.1\n"
     ]
    }
   ],
   "source": [
    "!pip install gymnasium"
   ]
  },
  {
   "cell_type": "code",
   "execution_count": 95,
   "id": "34314a12",
   "metadata": {},
   "outputs": [
    {
     "name": "stderr",
     "output_type": "stream",
     "text": [
      "C:\\Users\\phowlett\\AppData\\Roaming\\Python\\Python39\\site-packages\\gymnasium\\envs\\toy_text\\frozen_lake.py:329: UserWarning: \u001b[33mWARN: You are calling render method without specifying any render mode. You can specify the render_mode at initialization, e.g. gym.make(\"FrozenLake-v1\", render_mode=\"rgb_array\")\u001b[0m\n",
      "  gym.logger.warn(\n"
     ]
    }
   ],
   "source": [
    "import gymnasium as gym\n",
    "import pandas as pd\n",
    "import random\n",
    "maze = [\n",
    "    \"SFFFFFFFHF\",\n",
    "    \"FFFFFFFFHF\",\n",
    "    \"FFFHFFFFHF\",\n",
    "    \"FHFFFFFHFF\",\n",
    "    \"FFFFHFHFFF\",\n",
    "    \"FFFHFFHFFF\",\n",
    "    \"FFFFFFFHFF\",\n",
    "    \"FHFFFFFHFF\",\n",
    "    \"FFHFFFFHFF\",\n",
    "    \"FFFFFFFGFF\"\n",
    "]\n",
    "env = gym.make('FrozenLake-v1', desc=maze)\n",
    "initial_state = env.reset()\n",
    "new_state, reward, terminated, truncated, info = env.step(action)\n",
    "env.render()\n"
   ]
  },
  {
   "cell_type": "code",
   "execution_count": 96,
   "id": "d7714349",
   "metadata": {},
   "outputs": [
    {
     "data": {
      "text/plain": [
       "(0, {'prob': 1})"
      ]
     },
     "execution_count": 96,
     "metadata": {},
     "output_type": "execute_result"
    }
   ],
   "source": [
    "env.reset()"
   ]
  },
  {
   "cell_type": "code",
   "execution_count": 101,
   "id": "cf002524",
   "metadata": {},
   "outputs": [],
   "source": [
    "env.close()"
   ]
  },
  {
   "cell_type": "markdown",
   "id": "c38ed9f9",
   "metadata": {},
   "source": [
    "#### The goal will be +50 score, a hole will be -50, and an empty space is -1."
   ]
  },
  {
   "cell_type": "markdown",
   "id": "67f80b3f",
   "metadata": {},
   "source": [
    "### 2. Training Your Model\n",
    "In the cell seen below, write the code you need to train a Q-Learning model. Display your final Q-table once you are done training your model.\n",
    "\n",
    "*Note, level 5 work uses only the standard Python library and Pandas to train your Q-Learning model. A level 4 uses external libraries like Baseline3.*"
   ]
  },
  {
   "cell_type": "code",
   "execution_count": 97,
   "id": "73e62305",
   "metadata": {},
   "outputs": [],
   "source": [
    "import pandas as pd\n",
    "q = {\n",
    "    3: [0] * 100,     \n",
    "    1: [0] * 100,   \n",
    "    0: [0] * 100,    \n",
    "    2: [0] * 100   \n",
    "}\n",
    "cells = [\"S\", \"F\", \"F\", \"F\", \"F\", \"F\", \"F\", \"F\", \"H\", \"F\",\n",
    "         \"F\", \"F\", \"F\", \"F\", \"F\", \"F\", \"F\", \"F\", \"H\", \"F\",\n",
    "         \"F\", \"F\", \"F\", \"H\", \"F\", \"F\", \"F\", \"F\", \"H\", \"F\",\n",
    "         \"F\", \"H\", \"F\", \"F\", \"F\", \"F\", \"F\", \"H\", \"F\", \"F\",\n",
    "         \"F\", \"F\", \"F\", \"F\", \"H\", \"F\", \"H\", \"F\", \"F\", \"F\",\n",
    "         \"F\", \"F\", \"F\", \"H\", \"F\", \"F\", \"H\", \"F\", \"F\", \"F\",\n",
    "         \"F\", \"F\", \"F\", \"F\", \"F\", \"F\", \"F\", \"H\", \"F\", \"F\",\n",
    "         \"F\", \"H\", \"F\", \"F\", \"F\", \"F\", \"F\", \"H\", \"F\", \"F\",\n",
    "         \"F\", \"F\", \"H\", \"F\", \"F\", \"F\", \"F\", \"H\", \"F\", \"F\",\n",
    "         \"F\", \"F\", \"F\", \"F\", \"F\", \"F\", \"F\", \"G\", \"F\", \"F\"]"
   ]
  },
  {
   "cell_type": "code",
   "execution_count": 98,
   "id": "5acd796c",
   "metadata": {},
   "outputs": [],
   "source": [
    "def updateQ(q, alpha, gamma, step, cell, reward):\n",
    "    row = [q[3][cell], q[1][cell], q[0][cell], q[2][cell]]\n",
    "    bell = (1-alpha)*(q[step][cell]) + alpha*(reward + (gamma*max(row)))\n",
    "    q[step][cell] = bell\n",
    "        "
   ]
  },
  {
   "cell_type": "code",
   "execution_count": 99,
   "id": "8751afe9",
   "metadata": {},
   "outputs": [],
   "source": [
    "# Train Q-Model\n",
    "# Learning Rate - 0.5, Discount Rate - 0.5\n",
    "# Reward: +100 gift, -1 empty space, -100 lake\n",
    "# Belman Equation: (1-alpha)q(s,a) + alpha(R + gamma(max(s`, a`)))\n",
    "\n",
    "# Take a step (0: LEFT, 1: DOWN, 2: RIGHT, 3: UP)\n",
    "for episode in range(10000):\n",
    "    while not terminated:\n",
    "        # Take a step (0: LEFT, 1: DOWN, 2: RIGHT, 3: UP)\n",
    "        action = random.randint(0, 3)\n",
    "        new_state, reward, terminated, truncated, info = env.step(action)\n",
    "        idx = new_state % len(q[3])\n",
    "        if cells[new_state] == \"F\" or cells[new_state] == \"S\":\n",
    "            reward = -1\n",
    "        elif cells[new_state] == \"H\":\n",
    "            reward = -100\n",
    "        else:\n",
    "            reward = 100\n",
    "        updateQ(q, 0.5, 0.5, action, idx, reward)\n",
    "    inital = env.reset()\n",
    "    terminated = False\n",
    "    "
   ]
  },
  {
   "cell_type": "code",
   "execution_count": 100,
   "id": "5fa2686d",
   "metadata": {},
   "outputs": [
    {
     "data": {
      "text/html": [
       "<div>\n",
       "<style scoped>\n",
       "    .dataframe tbody tr th:only-of-type {\n",
       "        vertical-align: middle;\n",
       "    }\n",
       "\n",
       "    .dataframe tbody tr th {\n",
       "        vertical-align: top;\n",
       "    }\n",
       "\n",
       "    .dataframe thead th {\n",
       "        text-align: right;\n",
       "    }\n",
       "</style>\n",
       "<table border=\"1\" class=\"dataframe\">\n",
       "  <thead>\n",
       "    <tr style=\"text-align: right;\">\n",
       "      <th></th>\n",
       "      <th>3</th>\n",
       "      <th>1</th>\n",
       "      <th>0</th>\n",
       "      <th>2</th>\n",
       "    </tr>\n",
       "  </thead>\n",
       "  <tbody>\n",
       "    <tr>\n",
       "      <th>0</th>\n",
       "      <td>-2.0</td>\n",
       "      <td>-2.0</td>\n",
       "      <td>-2.0</td>\n",
       "      <td>-2.0</td>\n",
       "    </tr>\n",
       "    <tr>\n",
       "      <th>1</th>\n",
       "      <td>-2.0</td>\n",
       "      <td>-2.0</td>\n",
       "      <td>-2.0</td>\n",
       "      <td>-2.0</td>\n",
       "    </tr>\n",
       "    <tr>\n",
       "      <th>2</th>\n",
       "      <td>-2.0</td>\n",
       "      <td>-2.0</td>\n",
       "      <td>-2.0</td>\n",
       "      <td>-2.0</td>\n",
       "    </tr>\n",
       "    <tr>\n",
       "      <th>3</th>\n",
       "      <td>-2.0</td>\n",
       "      <td>-2.0</td>\n",
       "      <td>-2.0</td>\n",
       "      <td>-2.0</td>\n",
       "    </tr>\n",
       "    <tr>\n",
       "      <th>4</th>\n",
       "      <td>-2.0</td>\n",
       "      <td>-2.0</td>\n",
       "      <td>-2.0</td>\n",
       "      <td>-2.0</td>\n",
       "    </tr>\n",
       "  </tbody>\n",
       "</table>\n",
       "</div>"
      ],
      "text/plain": [
       "     3    1    0    2\n",
       "0 -2.0 -2.0 -2.0 -2.0\n",
       "1 -2.0 -2.0 -2.0 -2.0\n",
       "2 -2.0 -2.0 -2.0 -2.0\n",
       "3 -2.0 -2.0 -2.0 -2.0\n",
       "4 -2.0 -2.0 -2.0 -2.0"
      ]
     },
     "execution_count": 100,
     "metadata": {},
     "output_type": "execute_result"
    }
   ],
   "source": [
    "df = pd.DataFrame(q)\n",
    "df.head()"
   ]
  },
  {
   "cell_type": "markdown",
   "id": "3b912364",
   "metadata": {},
   "source": [
    "### 3. Testing Your Model\n",
    "In the cell seen below, write the code you need to test your Q-Learning model for **1000 episodes**. It is important to test your model for 1000 episodes so that we are all able to compare our results.\n",
    "\n",
    "*Note, level 5 testing uses both a success rate and an average steps taken metric to evaluate your model. Level 4 uses one or the other.*"
   ]
  },
  {
   "cell_type": "code",
   "execution_count": 102,
   "id": "e30cf1dd",
   "metadata": {},
   "outputs": [],
   "source": [
    "env = gym.make('FrozenLake-v1', desc=maze, render_mode='human')\n",
    "initial_state = env.reset()\n",
    "env.render()\n",
    "action = 2  \n",
    "new_state, reward, terminated, truncated, info = env.step(action)\n",
    "for step in range(13):\n",
    "    action = np.argmax(Q_table[state, :])  # Choose best action from Q-table\n",
    "    new_state, reward, terminated, truncated, _ = env.step(action)\n",
    "        \n",
    "    state = new_state\n",
    "    steps += 1\n",
    "env.render()\n",
    "env.close()"
   ]
  },
  {
   "cell_type": "markdown",
   "id": "78e7e09e",
   "metadata": {},
   "source": [
    "### 4. Final Answer\n",
    "In the first cell below, describe the path your elf takes to get to the gift. *Note, a level 5 answer includes a gif of the path your elf takes in order to reach the gift.*\n",
    "\n",
    "In the second cell seen below, describe how well your Q-Learning model performed. Make sure that you explicitly name the **learning rate**, **the discount factor**, and the **reward system** that you used when training your final model. *Note, a level 5 description describes the model's performance using two types of quantitative evidence.*"
   ]
  },
  {
   "cell_type": "markdown",
   "id": "9b6eef8e",
   "metadata": {},
   "source": [
    "![example image](https://gymnasium.farama.org/_images/frozen_lake.gif)"
   ]
  },
  {
   "cell_type": "markdown",
   "id": "54fdae15",
   "metadata": {},
   "source": [
    "#### Describe the path your elf takes here."
   ]
  },
  {
   "cell_type": "markdown",
   "id": "6b8f66ed",
   "metadata": {},
   "source": [
    "#### Describe how well your Q-Learning model performed here."
   ]
  }
 ],
 "metadata": {
  "kernelspec": {
   "display_name": "Python 3 (ipykernel)",
   "language": "python",
   "name": "python3"
  },
  "language_info": {
   "codemirror_mode": {
    "name": "ipython",
    "version": 3
   },
   "file_extension": ".py",
   "mimetype": "text/x-python",
   "name": "python",
   "nbconvert_exporter": "python",
   "pygments_lexer": "ipython3",
   "version": "3.9.13"
  }
 },
 "nbformat": 4,
 "nbformat_minor": 5
}
